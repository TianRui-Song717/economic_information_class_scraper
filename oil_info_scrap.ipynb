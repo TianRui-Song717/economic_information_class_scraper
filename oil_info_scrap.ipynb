{
 "cells": [
  {
   "cell_type": "code",
   "execution_count": 1,
   "metadata": {},
   "outputs": [],
   "source": [
    "import requests"
   ]
  },
  {
   "cell_type": "markdown",
   "metadata": {},
   "source": [
    "# 获得 HTML 界面"
   ]
  },
  {
   "cell_type": "code",
   "execution_count": 2,
   "metadata": {},
   "outputs": [],
   "source": [
    "def get_html(url):\n",
    "    try:\n",
    "        r = requests.get(url)\n",
    "        r.raise_for_status()\n",
    "        r.encoding = r.apparent_encoding\n",
    "        return r.text\n",
    "    except:\n",
    "        return \"\""
   ]
  },
  {
   "cell_type": "code",
   "execution_count": 3,
   "metadata": {},
   "outputs": [],
   "source": [
    "html = get_html(\"http://www.chinalubricant.com/news/list/447/3/\") #第三页/3/"
   ]
  },
  {
   "cell_type": "markdown",
   "metadata": {},
   "source": [
    "# 利用bs4整理信息"
   ]
  },
  {
   "cell_type": "code",
   "execution_count": 4,
   "metadata": {},
   "outputs": [],
   "source": [
    "from bs4 import BeautifulSoup"
   ]
  },
  {
   "cell_type": "code",
   "execution_count": 5,
   "metadata": {},
   "outputs": [],
   "source": [
    "import re"
   ]
  },
  {
   "cell_type": "code",
   "execution_count": 6,
   "metadata": {},
   "outputs": [],
   "source": [
    "import pandas as pd"
   ]
  },
  {
   "cell_type": "markdown",
   "metadata": {},
   "source": [
    "### 润滑油网站信息"
   ]
  },
  {
   "cell_type": "markdown",
   "metadata": {},
   "source": [
    "- [中国润滑油网](http://www.chinalubricant.com/news/list/447/)"
   ]
  },
  {
   "cell_type": "code",
   "execution_count": 7,
   "metadata": {},
   "outputs": [],
   "source": [
    "def get_oil_info_1(html):\n",
    "    soup = BeautifulSoup(html,\"html.parser\")\n",
    "    container_tag = soup.find(\"div\",{\"class\":\"layout_bd article_list\"})\n",
    "    news_list = container_tag.find_all(\"dl\")\n",
    "\n",
    "    df = pd.DataFrame(columns=[\"title\",\"detail\",\"date\"])\n",
    "\n",
    "    for each_news in news_list:\n",
    "        title = each_news.dt.a.text\n",
    "        detail = each_news.find(\"dd\",{\"class\":\"desc\"}).text\n",
    "        date_string = each_news.find(\"dd\",{\"class\":\"date\"}).find_all(\"span\")[1].text\n",
    "        date = re.search(r\"\\d{4}-\\d{2}-\\d{2}\",date_string)[0]\n",
    "        df = df.append({\"title\":title, \"detail\":detail, \"date\":date}, ignore_index=True)\n",
    "    df[\"date\"] = pd.to_datetime(df[\"date\"],format=\"%Y-%m-%d\")\n",
    "    return df"
   ]
  },
  {
   "cell_type": "code",
   "execution_count": 8,
   "metadata": {},
   "outputs": [
    {
     "data": {
      "text/html": [
       "<div>\n",
       "<style scoped>\n",
       "    .dataframe tbody tr th:only-of-type {\n",
       "        vertical-align: middle;\n",
       "    }\n",
       "\n",
       "    .dataframe tbody tr th {\n",
       "        vertical-align: top;\n",
       "    }\n",
       "\n",
       "    .dataframe thead th {\n",
       "        text-align: right;\n",
       "    }\n",
       "</style>\n",
       "<table border=\"1\" class=\"dataframe\">\n",
       "  <thead>\n",
       "    <tr style=\"text-align: right;\">\n",
       "      <th></th>\n",
       "      <th>title</th>\n",
       "      <th>detail</th>\n",
       "      <th>date</th>\n",
       "    </tr>\n",
       "  </thead>\n",
       "  <tbody>\n",
       "    <tr>\n",
       "      <th>0</th>\n",
       "      <td>中国石化首次举办“中国石化在沙特”云开放日活动</td>\n",
       "      <td>2020年9月11日，中国石化举办“中国石化在沙特”云开放日活动。</td>\n",
       "      <td>2020-09-16</td>\n",
       "    </tr>\n",
       "    <tr>\n",
       "      <th>1</th>\n",
       "      <td>新经济时代，螺杆空压机降本增效需要什么样的机油？</td>\n",
       "      <td>2020年9月14日，太行润滑油在上海隆重发布了赋能螺杆空压机行业发展的更高效、更节能的全合...</td>\n",
       "      <td>2020-09-16</td>\n",
       "    </tr>\n",
       "    <tr>\n",
       "      <th>2</th>\n",
       "      <td>共享资源、缔造商机、齐赢发展！ 2020中国润滑油技术创新及行业发展论坛（第五届）绽放花城广州！</td>\n",
       "      <td>2020年9月9日珠海美合科技股份有限公司独家冠名赞助的 “2020中国润滑油技术创新及行业...</td>\n",
       "      <td>2020-09-15</td>\n",
       "    </tr>\n",
       "    <tr>\n",
       "      <th>3</th>\n",
       "      <td>共享资源、缔造商机、齐赢发展！ 2020中国润滑油技术创新及行业发展论坛（第五届）绽放花城广州！</td>\n",
       "      <td>2020年9月9日珠海美合科技股份有限公司独家冠名赞助的 “2020中国润滑油技术创新及行业...</td>\n",
       "      <td>2020-09-15</td>\n",
       "    </tr>\n",
       "    <tr>\n",
       "      <th>4</th>\n",
       "      <td>花旗预计布伦特原油到2021年年底将重返每桶60美元</td>\n",
       "      <td>花旗预计目前在每桶40美元附近交投的全球基准布伦特原油2021年平均价格在55美元左右，然后...</td>\n",
       "      <td>2020-09-15</td>\n",
       "    </tr>\n",
       "  </tbody>\n",
       "</table>\n",
       "</div>"
      ],
      "text/plain": [
       "                                              title  \\\n",
       "0                           中国石化首次举办“中国石化在沙特”云开放日活动   \n",
       "1                          新经济时代，螺杆空压机降本增效需要什么样的机油？   \n",
       "2  共享资源、缔造商机、齐赢发展！ 2020中国润滑油技术创新及行业发展论坛（第五届）绽放花城广州！   \n",
       "3  共享资源、缔造商机、齐赢发展！ 2020中国润滑油技术创新及行业发展论坛（第五届）绽放花城广州！   \n",
       "4                        花旗预计布伦特原油到2021年年底将重返每桶60美元   \n",
       "\n",
       "                                              detail       date  \n",
       "0                  2020年9月11日，中国石化举办“中国石化在沙特”云开放日活动。 2020-09-16  \n",
       "1  2020年9月14日，太行润滑油在上海隆重发布了赋能螺杆空压机行业发展的更高效、更节能的全合... 2020-09-16  \n",
       "2  2020年9月9日珠海美合科技股份有限公司独家冠名赞助的 “2020中国润滑油技术创新及行业... 2020-09-15  \n",
       "3  2020年9月9日珠海美合科技股份有限公司独家冠名赞助的 “2020中国润滑油技术创新及行业... 2020-09-15  \n",
       "4  花旗预计目前在每桶40美元附近交投的全球基准布伦特原油2021年平均价格在55美元左右，然后... 2020-09-15  "
      ]
     },
     "execution_count": 8,
     "metadata": {},
     "output_type": "execute_result"
    }
   ],
   "source": [
    "info_df_1 = get_oil_info_1(html)\n",
    "info_df_1.head()"
   ]
  },
  {
   "cell_type": "markdown",
   "metadata": {},
   "source": [
    "读取前7页的新闻"
   ]
  },
  {
   "cell_type": "code",
   "execution_count": 10,
   "metadata": {},
   "outputs": [],
   "source": [
    "#df = pd.DataFrame(columns=[\"title\",\"detail\",\"date\"])\n",
    "df = pd.read_csv(\"中国润滑油网.csv\")"
   ]
  },
  {
   "cell_type": "code",
   "execution_count": 13,
   "metadata": {},
   "outputs": [],
   "source": [
    "for i in range(1,7):\n",
    "    html = get_html(\"http://www.chinalubricant.com/news/list/447/\" + str(i) + \"/\")\n",
    "    new_df = get_oil_info_1(html)\n",
    "    df = pd.concat([df, new_df], axis=0, ignore_index=True)\n",
    "df.to_csv(\"中国润滑油网.csv\",encoding=\"utf_8_sig\")"
   ]
  },
  {
   "cell_type": "markdown",
   "metadata": {},
   "source": [
    "- [润滑油情报网](http://www.lube-info.com/market/)"
   ]
  },
  {
   "cell_type": "code",
   "execution_count": 14,
   "metadata": {},
   "outputs": [],
   "source": [
    "html2 = get_html(\"http://www.lube-info.com/market/1.html\") #2.html 表示第二页"
   ]
  },
  {
   "cell_type": "code",
   "execution_count": 15,
   "metadata": {},
   "outputs": [],
   "source": [
    "def get_oil_info_2(html):\n",
    "    soup = BeautifulSoup(html2,\"html.parser\")\n",
    "    container_tag = soup.find(\"ul\",{\"class\":\"text_list text_list_f14\"})\n",
    "    news_list = container_tag.find_all(\"li\")\n",
    "\n",
    "    df = pd.DataFrame(columns=[\"title\",\"date\",\"link\"])\n",
    "\n",
    "    for each_news in news_list:\n",
    "        title = each_news.a.text\n",
    "        date = each_news.span.text\n",
    "        link = \"http://www.lube-info.com/\" + each_news.a[\"href\"]\n",
    "        df = df.append({\"title\":title, \"date\":date, \"link\":link}, ignore_index=True)\n",
    "    df[\"date\"] = pd.to_datetime(df[\"date\"],format=\"%Y-%m-%d\")\n",
    "    return df"
   ]
  },
  {
   "cell_type": "code",
   "execution_count": 16,
   "metadata": {},
   "outputs": [
    {
     "data": {
      "text/html": [
       "<div>\n",
       "<style scoped>\n",
       "    .dataframe tbody tr th:only-of-type {\n",
       "        vertical-align: middle;\n",
       "    }\n",
       "\n",
       "    .dataframe tbody tr th {\n",
       "        vertical-align: top;\n",
       "    }\n",
       "\n",
       "    .dataframe thead th {\n",
       "        text-align: right;\n",
       "    }\n",
       "</style>\n",
       "<table border=\"1\" class=\"dataframe\">\n",
       "  <thead>\n",
       "    <tr style=\"text-align: right;\">\n",
       "      <th></th>\n",
       "      <th>title</th>\n",
       "      <th>date</th>\n",
       "      <th>link</th>\n",
       "    </tr>\n",
       "  </thead>\n",
       "  <tbody>\n",
       "    <tr>\n",
       "      <th>0</th>\n",
       "      <td>鑫业润滑油党支部开展“勿忘国耻 铭记九一八”主题党日系列活动</td>\n",
       "      <td>2020-09-18</td>\n",
       "      <td>http://www.lube-info.com/2020/0918/9571.html</td>\n",
       "    </tr>\n",
       "    <tr>\n",
       "      <th>1</th>\n",
       "      <td>珠海市政协副主席陈仁福一行莅临顺益科技园调研指导工作</td>\n",
       "      <td>2020-09-18</td>\n",
       "      <td>http://www.lube-info.com/2020/0918/9570.html</td>\n",
       "    </tr>\n",
       "    <tr>\n",
       "      <th>2</th>\n",
       "      <td>嘉实多将与捷豹车队延续长期战略合作伙伴关系</td>\n",
       "      <td>2020-09-18</td>\n",
       "      <td>http://www.lube-info.com/2020/0918/9568.html</td>\n",
       "    </tr>\n",
       "    <tr>\n",
       "      <th>3</th>\n",
       "      <td>阿联酋8月减产执行率仅为10%</td>\n",
       "      <td>2020-09-18</td>\n",
       "      <td>http://www.lube-info.com/2020/0918/9567.html</td>\n",
       "    </tr>\n",
       "    <tr>\n",
       "      <th>4</th>\n",
       "      <td>引能仕品牌推荐会（南宁站）顺利举办</td>\n",
       "      <td>2020-09-17</td>\n",
       "      <td>http://www.lube-info.com/2020/0917/9565.html</td>\n",
       "    </tr>\n",
       "  </tbody>\n",
       "</table>\n",
       "</div>"
      ],
      "text/plain": [
       "                            title       date  \\\n",
       "0  鑫业润滑油党支部开展“勿忘国耻 铭记九一八”主题党日系列活动 2020-09-18   \n",
       "1      珠海市政协副主席陈仁福一行莅临顺益科技园调研指导工作 2020-09-18   \n",
       "2           嘉实多将与捷豹车队延续长期战略合作伙伴关系 2020-09-18   \n",
       "3                 阿联酋8月减产执行率仅为10% 2020-09-18   \n",
       "4               引能仕品牌推荐会（南宁站）顺利举办 2020-09-17   \n",
       "\n",
       "                                           link  \n",
       "0  http://www.lube-info.com/2020/0918/9571.html  \n",
       "1  http://www.lube-info.com/2020/0918/9570.html  \n",
       "2  http://www.lube-info.com/2020/0918/9568.html  \n",
       "3  http://www.lube-info.com/2020/0918/9567.html  \n",
       "4  http://www.lube-info.com/2020/0917/9565.html  "
      ]
     },
     "execution_count": 16,
     "metadata": {},
     "output_type": "execute_result"
    }
   ],
   "source": [
    "info_df_2 = get_oil_info_2(html2)\n",
    "info_df_2.head()"
   ]
  },
  {
   "cell_type": "markdown",
   "metadata": {},
   "source": [
    "读取前两页的信息"
   ]
  },
  {
   "cell_type": "code",
   "execution_count": 17,
   "metadata": {},
   "outputs": [],
   "source": [
    "df = pd.DataFrame(columns=[\"title\",\"date\",\"link\"])\n",
    "#df = pd.read_csv(\"润滑油情报网.csv\")"
   ]
  },
  {
   "cell_type": "code",
   "execution_count": 18,
   "metadata": {},
   "outputs": [],
   "source": [
    "for i in range(1,2):\n",
    "    html = get_html(\"http://www.lube-info.com/market/1.html\")\n",
    "    new_df = get_oil_info_2(html)\n",
    "    df = pd.concat([df,new_df],axis=0,ignore_index=True)\n",
    "df.to_csv(\"润滑油情报网.csv\",encoding=\"utf_8_sig\")"
   ]
  },
  {
   "cell_type": "markdown",
   "metadata": {},
   "source": [
    "### 新闻网站信息"
   ]
  },
  {
   "cell_type": "markdown",
   "metadata": {},
   "source": [
    "- [澎湃新闻](https://www.thepaper.cn/searchResult.jsp)"
   ]
  },
  {
   "cell_type": "markdown",
   "metadata": {},
   "source": [
    "- "
   ]
  },
  {
   "cell_type": "markdown",
   "metadata": {},
   "source": [
    "### 股票信息"
   ]
  },
  {
   "cell_type": "markdown",
   "metadata": {},
   "source": [
    "- 国内： sh601857中国石油、sh600028中国石化、sz002207准油股份、sh601808中海油服、sh600688S上石化、sz000554泰山石油、sz000637茂化实华、sz000819岳阳兴长、sz000096广聚能源、sz002221东华能源、sz002377国创高新、sz002493荣盛石化石油概念股票、sz300164通源石油"
   ]
  },
  {
   "cell_type": "markdown",
   "metadata": {},
   "source": [
    "- 链接：https://q.stock.sohu.com/hisHq?code=cn_601857&start=20200601&end=20200920&stat=1&order=D&period=d&callback=historySearchHandler&rt=json （cn_601857-股票代码，start=开始日期，end=结束日期）\n",
    "- 每次改变结束日期"
   ]
  },
  {
   "cell_type": "code",
   "execution_count": 119,
   "metadata": {},
   "outputs": [],
   "source": [
    "def get_json(url):\n",
    "    try:\n",
    "        r = requests.get(url).json()\n",
    "        return r\n",
    "    except:\n",
    "        return \"\""
   ]
  },
  {
   "cell_type": "code",
   "execution_count": 136,
   "metadata": {},
   "outputs": [],
   "source": [
    "stock_num_dict = {\"601857\":\"中国石油\",\"600028\":\"中国石化\",\"002207\":\"准油股份\",\"601808\":\"中海油服\",\"600688\":\"上石化\",\"000554\":\"泰山石油\",\"000637\":\"茂化实华\",\"000819\":\"岳阳兴长\",\"000096\":\"广聚能源\",\"002221\":\"东华能源\",\"002377\":\"国创高新\",\"002493\":\"荣盛石化石油\",\"300164\":\"通源石油\"}"
   ]
  },
  {
   "cell_type": "code",
   "execution_count": 154,
   "metadata": {},
   "outputs": [],
   "source": [
    "for each in stock_num_dict.items():\n",
    "    stock_info_json = get_json(\"https://q.stock.sohu.com/hisHq?code=cn_\" + each[0] + \"&start=20200601&end=20200920&stat=1&order=D&period=d&callback=historySearchHandler&rt=json\")\n",
    "    info = stock_info_json[0]['hq']\n",
    "    df = pd.DataFrame(columns=[\"price\",\"date\"])\n",
    "    for each_info in info:\n",
    "        date = each_info[0]\n",
    "        price = each_info[1]\n",
    "        df = df.append({\"price\":price, \"date\":date}, ignore_index = True)\n",
    "    df[\"date\"] = pd.to_datetime(df[\"date\"], format=\"%Y-%m-%d\")\n",
    "    final_df = df.sort_values(\"date\")\n",
    "    final_df.to_csv(each[1] + \".csv\")"
   ]
  },
  {
   "cell_type": "markdown",
   "metadata": {},
   "source": [
    "- 国际：布伦特，WTI（一周一次）"
   ]
  },
  {
   "cell_type": "markdown",
   "metadata": {},
   "source": [
    "- 链接：http://youjia.chemcp.com/YuanYouJiaGe.asp"
   ]
  },
  {
   "cell_type": "code",
   "execution_count": 50,
   "metadata": {},
   "outputs": [],
   "source": [
    "#international_oil_stock = pd.DataFrame(columns=[\"Brent\",\"WTI\",\"date\"])\n",
    "international_oil_stock = pd.read_csv(\"international_oil_stock.csv\")"
   ]
  },
  {
   "cell_type": "code",
   "execution_count": 38,
   "metadata": {},
   "outputs": [],
   "source": [
    "international_oil_html = get_html(\"http://youjia.chemcp.com/YuanYouJiaGe.asp\")"
   ]
  },
  {
   "cell_type": "code",
   "execution_count": 39,
   "metadata": {},
   "outputs": [],
   "source": [
    "def get_international_stock_info(html, international_oil_stock):\n",
    "    soup = BeautifulSoup(international_oil_html,\"html.parser\")\n",
    "    container_tag = soup.find(\"div\",{\"class\":\"cpbaojia\"}).find_all(\"table\")[1]\n",
    "    all_data = container_tag.tbody.find_all(\"tr\")[1:]\n",
    "    burent_stock_data = [float(all_data[i].find_all(\"td\")[1].text) for i in range(len(all_data)) if i%2 == 0]\n",
    "    burent_date_data = [all_data[i].find_all(\"td\")[4].text for i in range(len(all_data)) if i%2 == 0]\n",
    "    WTI_stock_data = [float(all_data[i].find_all(\"td\")[1].text) for i in range(len(all_data)) if i%2 != 0]\n",
    "    WTI_date_data = [all_data[i].find_all(\"td\")[4].text for i in range(len(all_data)) if i%2 != 0]\n",
    "    df = pd.DataFrame({\"Brent\":burent_stock_data, \"WTI\":WTI_stock_data, \"date\":burent_date_data})\n",
    "    final_df = pd.concat([international_oil_stock,df],axis=0, ignore_index=True)\n",
    "    return final_df"
   ]
  },
  {
   "cell_type": "code",
   "execution_count": 40,
   "metadata": {},
   "outputs": [],
   "source": [
    "ret_df = get_international_stock_info(international_oil_html, international_oil_stock)"
   ]
  },
  {
   "cell_type": "code",
   "execution_count": 47,
   "metadata": {},
   "outputs": [
    {
     "data": {
      "text/html": [
       "<div>\n",
       "<style scoped>\n",
       "    .dataframe tbody tr th:only-of-type {\n",
       "        vertical-align: middle;\n",
       "    }\n",
       "\n",
       "    .dataframe tbody tr th {\n",
       "        vertical-align: top;\n",
       "    }\n",
       "\n",
       "    .dataframe thead th {\n",
       "        text-align: right;\n",
       "    }\n",
       "</style>\n",
       "<table border=\"1\" class=\"dataframe\">\n",
       "  <thead>\n",
       "    <tr style=\"text-align: right;\">\n",
       "      <th></th>\n",
       "      <th>Brent</th>\n",
       "      <th>WTI</th>\n",
       "      <th>date</th>\n",
       "    </tr>\n",
       "  </thead>\n",
       "  <tbody>\n",
       "    <tr>\n",
       "      <th>4</th>\n",
       "      <td>39.83</td>\n",
       "      <td>37.33</td>\n",
       "      <td>2020-09-11</td>\n",
       "    </tr>\n",
       "    <tr>\n",
       "      <th>3</th>\n",
       "      <td>39.61</td>\n",
       "      <td>37.26</td>\n",
       "      <td>2020-09-14</td>\n",
       "    </tr>\n",
       "    <tr>\n",
       "      <th>2</th>\n",
       "      <td>40.85</td>\n",
       "      <td>38.28</td>\n",
       "      <td>2020-09-15</td>\n",
       "    </tr>\n",
       "    <tr>\n",
       "      <th>1</th>\n",
       "      <td>42.22</td>\n",
       "      <td>40.16</td>\n",
       "      <td>2020-09-16</td>\n",
       "    </tr>\n",
       "    <tr>\n",
       "      <th>0</th>\n",
       "      <td>43.43</td>\n",
       "      <td>40.97</td>\n",
       "      <td>2020-09-17</td>\n",
       "    </tr>\n",
       "  </tbody>\n",
       "</table>\n",
       "</div>"
      ],
      "text/plain": [
       "   Brent    WTI       date\n",
       "4  39.83  37.33 2020-09-11\n",
       "3  39.61  37.26 2020-09-14\n",
       "2  40.85  38.28 2020-09-15\n",
       "1  42.22  40.16 2020-09-16\n",
       "0  43.43  40.97 2020-09-17"
      ]
     },
     "execution_count": 47,
     "metadata": {},
     "output_type": "execute_result"
    }
   ],
   "source": [
    "ret_df[\"date\"] = pd.to_datetime(ret_df[\"date\"], format=\"%Y-%m-%d\")\n",
    "ret_df = ret_df.sort_values(\"date\")"
   ]
  },
  {
   "cell_type": "code",
   "execution_count": 48,
   "metadata": {},
   "outputs": [],
   "source": [
    "ret_df.to_csv(\"international_oil_stock.csv\")"
   ]
  },
  {
   "cell_type": "markdown",
   "metadata": {},
   "source": [
    "股票趋势图"
   ]
  },
  {
   "cell_type": "markdown",
   "metadata": {},
   "source": [
    "- Brent plot"
   ]
  },
  {
   "cell_type": "code",
   "execution_count": 51,
   "metadata": {},
   "outputs": [],
   "source": [
    "import matplotlib.pyplot as plt"
   ]
  },
  {
   "cell_type": "code",
   "execution_count": 55,
   "metadata": {},
   "outputs": [
    {
     "data": {
      "text/plain": [
       "[<matplotlib.lines.Line2D at 0x2c67a603a48>]"
      ]
     },
     "execution_count": 55,
     "metadata": {},
     "output_type": "execute_result"
    },
    {
     "data": {
      "image/png": "[encoded data removed]",
      "text/plain": [
       "<Figure size 432x288 with 1 Axes>"
      ]
     },
     "metadata": {
      "needs_background": "light"
     },
     "output_type": "display_data"
    }
   ],
   "source": [
    "plt.plot(international_oil_stock[\"Brent\"])"
   ]
  },
  {
   "cell_type": "markdown",
   "metadata": {},
   "source": [
    "- WTI plot"
   ]
  },
  {
   "cell_type": "code",
   "execution_count": 58,
   "metadata": {},
   "outputs": [
    {
     "data": {
      "text/plain": [
       "[<matplotlib.lines.Line2D at 0x2c67d5d6e48>]"
      ]
     },
     "execution_count": 58,
     "metadata": {},
     "output_type": "execute_result"
    },
    {
     "data": {
      "image/png": "[encoded data removed]",
      "text/plain": [
       "<Figure size 432x288 with 1 Axes>"
      ]
     },
     "metadata": {
      "needs_background": "light"
     },
     "output_type": "display_data"
    }
   ],
   "source": [
    "plt.plot(international_oil_stock[\"WTI\"])"
   ]
  }
 ],
 "metadata": {
  "kernelspec": {
   "display_name": "Python 3",
   "language": "python",
   "name": "python3"
  },
  "language_info": {
   "codemirror_mode": {
    "name": "ipython",
    "version": 3
   },
   "file_extension": ".py",
   "mimetype": "text/x-python",
   "name": "python",
   "nbconvert_exporter": "python",
   "pygments_lexer": "ipython3",
   "version": "3.7.4"
  }
 },
 "nbformat": 4,
 "nbformat_minor": 4
}
