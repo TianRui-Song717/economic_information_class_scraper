{
 "cells": [
  {
   "cell_type": "code",
   "execution_count": 1,
   "metadata": {},
   "outputs": [],
   "source": [
    "import requests\n",
    "from bs4 import BeautifulSoup"
   ]
  },
  {
   "cell_type": "code",
   "execution_count": 2,
   "metadata": {},
   "outputs": [],
   "source": [
    "url = \"https://aqicn.org/forecast/shanghai/\""
   ]
  },
  {
   "cell_type": "code",
   "execution_count": 3,
   "metadata": {},
   "outputs": [],
   "source": [
    "def get_html(url):\n",
    "    try:\n",
    "        r = requests.get(url)\n",
    "        r.raise_for_status()\n",
    "        r.encoding = r.apparent_encoding\n",
    "        return r.text\n",
    "    except:\n",
    "        return \"\""
   ]
  },
  {
   "cell_type": "code",
   "execution_count": 4,
   "metadata": {},
   "outputs": [],
   "source": [
    "def phrase_html_page(html):\n",
    "    soup = BeautifulSoup(html,\"html.parser\")\n",
    "    "
   ]
  },
  {
   "cell_type": "markdown",
   "metadata": {},
   "source": [
    "# call function"
   ]
  },
  {
   "cell_type": "code",
   "execution_count": 5,
   "metadata": {},
   "outputs": [],
   "source": [
    "html = get_html(\"airquality.html\")"
   ]
  },
  {
   "cell_type": "code",
   "execution_count": 6,
   "metadata": {},
   "outputs": [],
   "source": [
    "def get_pm25_df(html_path):\n",
    "    with open(html_path,encoding=\"utf-8\") as html_file:\n",
    "        soup = BeautifulSoup(html_file,\"html.parser\")\n",
    "\n",
    "    pm25_df = pd.DataFrame(columns=[\"hour\",\"pm25_value_max\",\"pm25_value_min\"])\n",
    "    container_tag = soup.find_all(\"div\",{\"class\":\"whitebody\"})[0]\n",
    "    parent_tag = container_tag.center.div.find(\"div\",{\"class\":\"forecast-body\"}).find(\"div\",{\"class\":\"forecast-body-table\"}).table\n",
    "    list_of_pm25 = parent_tag.find(\"tr\",{\"class\":\"wf-row-pm25\"}).find_all(\"td\")[1:]\n",
    "    hour = 0\n",
    "    for each_point in list_of_pm25:\n",
    "        try:\n",
    "            this_hour = hour\n",
    "            max_pm25 = int(each_point.div.find(\"div\",{\"class\":\"wf-cell-aqi-val-max\"}).text)\n",
    "            min_pm25 = int(each_point.div.find(\"div\",{\"class\":\"wf-cell-aqi-val-min\"}).text)\n",
    "            pm25_df = pm25_df.append({\"hour\":this_hour,\"pm25_value_max\":max_pm25,\"pm25_value_min\":min_pm25}, ignore_index=True)\n",
    "            hour += 3\n",
    "            hour = hour % 24 \n",
    "        except:\n",
    "            print(\"this one dose not contain info\")\n",
    "    return pm25_df"
   ]
  },
  {
   "cell_type": "code",
   "execution_count": 7,
   "metadata": {},
   "outputs": [],
   "source": [
    "def get_windspeed_df(html_path):\n",
    "    with open(html_path,encoding=\"utf-8\") as html_file:\n",
    "        soup = BeautifulSoup(html_file,\"html.parser\")\n",
    "\n",
    "    wind_speed_df = pd.DataFrame(columns=[\"hour\",\"wind_speed\"])\n",
    "    container_tag = soup.find_all(\"div\",{\"class\":\"whitebody\"})[0]\n",
    "    parent_tag = container_tag.center.div.find(\"div\",{\"class\":\"forecast-body\"}).find(\"div\",{\"class\":\"forecast-body-table\"}).table\n",
    "    list_of_windspeed = parent_tag.find(\"tr\",{\"class\":\"wf-row-wind\"}).find_all(\"td\")[1:]\n",
    "    hour = 0\n",
    "    for each_point in list_of_windspeed:\n",
    "        try:\n",
    "            this_hour = hour\n",
    "            wind_speed = int(each_point.svg.find(\"text\").text)\n",
    "            wind_speed_df = wind_speed_df.append({\"hour\":this_hour,\"wind_speed\":wind_speed}, ignore_index=True)\n",
    "            hour += 3\n",
    "            hour = hour % 24 \n",
    "        except:\n",
    "            print(\"this one dose not contain info\")\n",
    "    return wind_speed_df"
   ]
  },
  {
   "cell_type": "code",
   "execution_count": 8,
   "metadata": {},
   "outputs": [],
   "source": [
    "import re"
   ]
  },
  {
   "cell_type": "code",
   "execution_count": 9,
   "metadata": {},
   "outputs": [],
   "source": [
    "def get_winddir_df(html_path):\n",
    "    with open(html_path,encoding=\"utf-8\") as html_file:\n",
    "        soup = BeautifulSoup(html_file,\"html.parser\")\n",
    "\n",
    "    wind_dir_df = pd.DataFrame(columns=[\"hour\",\"wind_direction\"])\n",
    "    container_tag = soup.find_all(\"div\",{\"class\":\"whitebody\"})[0]\n",
    "    parent_tag = container_tag.center.div.find(\"div\",{\"class\":\"forecast-body\"}).find(\"div\",{\"class\":\"forecast-body-table\"}).table\n",
    "    list_of_winddir = parent_tag.find(\"tr\",{\"class\":\"wf-row-winddir\"}).find_all(\"td\")[1:]\n",
    "    hour = 0\n",
    "    for each_point in list_of_winddir:\n",
    "        try:\n",
    "            this_hour = hour\n",
    "            wind_dir_text = each_point.svg.line[\"transform\"][7:12]\n",
    "            wind_dir_ret = re.search(r\"\\d+\\.\\d\",wind_dir_text)[0]\n",
    "            wind_dir_df = wind_dir_df.append({\"hour\":this_hour,\"wind_direction\":wind_dir_ret}, ignore_index=True)\n",
    "            hour += 3\n",
    "            hour = hour % 24 \n",
    "        except:\n",
    "            print(\"this one dose not contain info\")\n",
    "    return wind_dir_df"
   ]
  },
  {
   "cell_type": "code",
   "execution_count": 10,
   "metadata": {},
   "outputs": [
    {
     "ename": "FileNotFoundError",
     "evalue": "[Errno 2] No such file or directory: 'airquality.html'",
     "output_type": "error",
     "traceback": [
      "\u001b[1;31m---------------------------------------------------------------------------\u001b[0m",
      "\u001b[1;31mFileNotFoundError\u001b[0m                         Traceback (most recent call last)",
      "\u001b[1;32m<ipython-input-10-6441eb9cd259>\u001b[0m in \u001b[0;36m<module>\u001b[1;34m\u001b[0m\n\u001b[1;32m----> 1\u001b[1;33m \u001b[0mget_winddir_df\u001b[0m\u001b[1;33m(\u001b[0m\u001b[1;34m\"airquality.html\"\u001b[0m\u001b[1;33m)\u001b[0m\u001b[1;33m\u001b[0m\u001b[1;33m\u001b[0m\u001b[0m\n\u001b[0m",
      "\u001b[1;32m<ipython-input-9-933d67731e5c>\u001b[0m in \u001b[0;36mget_winddir_df\u001b[1;34m(html_path)\u001b[0m\n\u001b[0;32m      1\u001b[0m \u001b[1;32mdef\u001b[0m \u001b[0mget_winddir_df\u001b[0m\u001b[1;33m(\u001b[0m\u001b[0mhtml_path\u001b[0m\u001b[1;33m)\u001b[0m\u001b[1;33m:\u001b[0m\u001b[1;33m\u001b[0m\u001b[1;33m\u001b[0m\u001b[0m\n\u001b[1;32m----> 2\u001b[1;33m     \u001b[1;32mwith\u001b[0m \u001b[0mopen\u001b[0m\u001b[1;33m(\u001b[0m\u001b[0mhtml_path\u001b[0m\u001b[1;33m,\u001b[0m\u001b[0mencoding\u001b[0m\u001b[1;33m=\u001b[0m\u001b[1;34m\"utf-8\"\u001b[0m\u001b[1;33m)\u001b[0m \u001b[1;32mas\u001b[0m \u001b[0mhtml_file\u001b[0m\u001b[1;33m:\u001b[0m\u001b[1;33m\u001b[0m\u001b[1;33m\u001b[0m\u001b[0m\n\u001b[0m\u001b[0;32m      3\u001b[0m         \u001b[0msoup\u001b[0m \u001b[1;33m=\u001b[0m \u001b[0mBeautifulSoup\u001b[0m\u001b[1;33m(\u001b[0m\u001b[0mhtml_file\u001b[0m\u001b[1;33m,\u001b[0m\u001b[1;34m\"html.parser\"\u001b[0m\u001b[1;33m)\u001b[0m\u001b[1;33m\u001b[0m\u001b[1;33m\u001b[0m\u001b[0m\n\u001b[0;32m      4\u001b[0m \u001b[1;33m\u001b[0m\u001b[0m\n\u001b[0;32m      5\u001b[0m     \u001b[0mwind_dir_df\u001b[0m \u001b[1;33m=\u001b[0m \u001b[0mpd\u001b[0m\u001b[1;33m.\u001b[0m\u001b[0mDataFrame\u001b[0m\u001b[1;33m(\u001b[0m\u001b[0mcolumns\u001b[0m\u001b[1;33m=\u001b[0m\u001b[1;33m[\u001b[0m\u001b[1;34m\"hour\"\u001b[0m\u001b[1;33m,\u001b[0m\u001b[1;34m\"wind_direction\"\u001b[0m\u001b[1;33m]\u001b[0m\u001b[1;33m)\u001b[0m\u001b[1;33m\u001b[0m\u001b[1;33m\u001b[0m\u001b[0m\n",
      "\u001b[1;31mFileNotFoundError\u001b[0m: [Errno 2] No such file or directory: 'airquality.html'"
     ]
    }
   ],
   "source": [
    "get_winddir_df(\"airquality.html\")"
   ]
  },
  {
   "cell_type": "code",
   "execution_count": null,
   "metadata": {},
   "outputs": [],
   "source": [
    " get_windspeed_df(\"airquality.html\")"
   ]
  },
  {
   "cell_type": "code",
   "execution_count": null,
   "metadata": {},
   "outputs": [],
   "source": [
    "with open(\"airquality.html\",encoding=\"utf-8\") as html_file:\n",
    "        soup = BeautifulSoup(html_file,\"html.parser\")\n",
    "\n",
    "wind_dir_df = pd.DataFrame(columns=[\"hour\",\"wind_direction\"])\n",
    "container_tag = soup.find_all(\"div\",{\"class\":\"whitebody\"})[0]\n",
    "parent_tag = container_tag.center.div.find(\"div\",{\"class\":\"forecast-body\"}).find(\"div\",{\"class\":\"forecast-body-table\"}).table\n",
    "list_of_winddir = parent_tag.find(\"tr\",{\"class\":\"wf-row-winddir\"}).find_all(\"td\")[1:]\n",
    "hour = 0\n",
    "for each_point in list_of_winddir:\n",
    "    try:\n",
    "        this_hour = hour\n",
    "        wind_dir_text = each_point.svg.line[\"transform\"][7:12]\n",
    "        wind_dir_ret = re.search(r\"\\d+\\.\\d\",wind_dir_text)[0]\n",
    "        wind_dir_df = wind_dir_df.append({\"hour\":this_hour,\"wind_direction\":wind_dir_ret}, ignore_index=True)\n",
    "        hour += 3\n",
    "        hour = hour % 24 \n",
    "    except:\n",
    "        print(\"this one dose not contain info\")"
   ]
  },
  {
   "cell_type": "code",
   "execution_count": null,
   "metadata": {},
   "outputs": [],
   "source": [
    "wind_dir_df"
   ]
  },
  {
   "cell_type": "code",
   "execution_count": null,
   "metadata": {},
   "outputs": [],
   "source": [
    "text = list_of_pm25[0].svg.line[\"transform\"]\n",
    "text"
   ]
  },
  {
   "cell_type": "code",
   "execution_count": null,
   "metadata": {},
   "outputs": [],
   "source": [
    "get_windspeed_df(\"airquality.html\")"
   ]
  },
  {
   "cell_type": "code",
   "execution_count": null,
   "metadata": {},
   "outputs": [],
   "source": [
    "get_pm25_df(\"airquality.html\")"
   ]
  }
 ],
 "metadata": {
  "kernelspec": {
   "display_name": "Python 3",
   "language": "python",
   "name": "python3"
  },
  "language_info": {
   "codemirror_mode": {
    "name": "ipython",
    "version": 3
   },
   "file_extension": ".py",
   "mimetype": "text/x-python",
   "name": "python",
   "nbconvert_exporter": "python",
   "pygments_lexer": "ipython3",
   "version": "3.7.4"
  }
 },
 "nbformat": 4,
 "nbformat_minor": 4
}
